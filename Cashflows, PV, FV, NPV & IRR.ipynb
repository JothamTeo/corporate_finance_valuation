{
 "cells": [
  {
   "cell_type": "markdown",
   "metadata": {},
   "source": [
    "## Cashflows, PV, FV, NPV & IRR\n",
    "\n",
    "Here we will create a class representing each cash flow that has the time period of the cash flow, the rate we are discounting for, & the nominal value of the cash flow. \n",
    "\n",
    "We want to implement a function that takes a time period & discounts/values the cash flow to that time period. We will then be able to use this to get the present value (time 0) or the discounted or future value at time t."
   ]
  },
  {
   "cell_type": "code",
   "execution_count": 2,
   "metadata": {},
   "outputs": [],
   "source": [
    "import numpy as np\n",
    "import pandas as pd\n",
    "import matplotlib.pyplot as plt"
   ]
  },
  {
   "cell_type": "code",
   "execution_count": 3,
   "metadata": {},
   "outputs": [],
   "source": [
    "class Cashflow:\n",
    "    \n",
    "    def __init__(self, val,t,r):\n",
    "        self.val = val\n",
    "        self.t = t\n",
    "        self.r = r\n",
    "        self.PV = self.valAt(0)\n",
    "        \n",
    "    def valAt(self,time):\n",
    "        return self.val*(1+self.r)**(time-self.t)\n",
    "    \n",
    "    def tryR(self,r):\n",
    "        return self.val*(1+r)**(0-self.t)"
   ]
  },
  {
   "cell_type": "markdown",
   "metadata": {},
   "source": [
    "If you get $1000 at time 1 & time 2, with a discount rate of 5\\%, what is the present value? What is the future value at time 3?"
   ]
  },
  {
   "cell_type": "code",
   "execution_count": 4,
   "metadata": {},
   "outputs": [
    {
     "name": "stdout",
     "output_type": "stream",
     "text": [
      "Cashflow of period 1: $952.38 \n",
      "Cashflow of period 2: $907.03\n",
      "Total Cashflow: $1859.41\n"
     ]
    }
   ],
   "source": [
    "# Calculation of PV\n",
    "flows = [Cashflow(1000,1,.05), Cashflow(1000,2,.05)]\n",
    "total = 0\n",
    "\n",
    "total = [f.PV for f in flows]\n",
    "print('Cashflow of period 1: ${:.2f} \\nCashflow of period 2: ${:.2f}'.format(total[0], total[1]))\n",
    "print('Total Cashflow: ${:.2f}'.format(sum(total)))"
   ]
  },
  {
   "cell_type": "code",
   "execution_count": 5,
   "metadata": {},
   "outputs": [
    {
     "name": "stdout",
     "output_type": "stream",
     "text": [
      "Future cashflow of period 1: $1102.50 \n",
      "Future Cashflow of period 2: $1050.00\n",
      "Future Total Cashflow: $2152.50\n"
     ]
    }
   ],
   "source": [
    "# Calculation of FV\n",
    "\n",
    "FV = [f.valAt(3) for f in flows]\n",
    "print('Future cashflow of period 1: ${:.2f} \\nFuture Cashflow of period 2: ${:.2f}'.format(FV[0], FV[1]))\n",
    "print('Future Total Cashflow: ${:.2f}'.format(sum(FV)))"
   ]
  },
  {
   "cell_type": "markdown",
   "metadata": {},
   "source": [
    "Use the new cash flow class to create an NPV function that takes an array of cash flows & returns the net present value."
   ]
  },
  {
   "cell_type": "code",
   "execution_count": 6,
   "metadata": {},
   "outputs": [
    {
     "name": "stdout",
     "output_type": "stream",
     "text": [
      "Net Present Value: $359.41\n"
     ]
    }
   ],
   "source": [
    "def NPV(arr):\n",
    "    return sum([x.PV for x in arr])\n",
    "\n",
    "print('Net Present Value: ${:.2f}'.format(NPV([Cashflow(-1500,0,.05),Cashflow(1000,1,.05),Cashflow(1000,2,.05)]) ) )"
   ]
  },
  {
   "cell_type": "markdown",
   "metadata": {},
   "source": [
    "Now let’s create our IRR function. We make an NPV2 function first that returns the NPV for a given r."
   ]
  },
  {
   "cell_type": "code",
   "execution_count": 7,
   "metadata": {},
   "outputs": [],
   "source": [
    "def NPV2(r,arr):\n",
    "    return sum([x.tryR(r) for x in arr])"
   ]
  },
  {
   "cell_type": "code",
   "execution_count": 8,
   "metadata": {},
   "outputs": [],
   "source": [
    "from scipy.optimize import fsolve\n",
    "\n",
    "def findIRR(arr):\n",
    "    return fsolve(NPV2, 0,(arr))"
   ]
  },
  {
   "cell_type": "markdown",
   "metadata": {},
   "source": [
    "We import fsolve from numpy, which allows for solving for the point where our equation equals 0. The three parameters of fsolve are the function we want to make equal to 0 (NPV2), a guess at what value of the first function parameter would be when the equation equals 0 (we guess r=0 to begin), & the extra parameters (the array is the extra parameter in this case that the function needs.)"
   ]
  },
  {
   "cell_type": "code",
   "execution_count": 9,
   "metadata": {},
   "outputs": [
    {
     "name": "stdout",
     "output_type": "stream",
     "text": [
      "[0.21525044]\n",
      "-8.417373464908451e-10\n"
     ]
    }
   ],
   "source": [
    "print(findIRR([Cashflow(-1500.0,0.0,.05),Cashflow(1000.0,1.0,.05),Cashflow(1000.0,2.0,.05)]))\n",
    "print(NPV2(.215250437022,[Cashflow(-1500.0,0,.05),Cashflow(1000.0,1,.05),Cashflow(1000.0,2,.05)]))\n"
   ]
  },
  {
   "cell_type": "markdown",
   "metadata": {},
   "source": [
    "We get an answer virtually equal to 0 for the NPV."
   ]
  },
  {
   "cell_type": "markdown",
   "metadata": {},
   "source": [
    "## To Take Or Not To Take\n",
    "\n",
    "A general rule of thumb is that the NPV rule advises to take on the project if the NPV>0. In contrast, the IRR rule will sometimes advise to take the project <b>if</b> the required rate of return is less than the IRR. However, this   only applies to some cash flows (specifically ones where the payment is at time 0 & the rest of the cashflows are positive in the future). \n",
    "\n",
    "In the following code, we will show 2 approaches: The first being positive cashflows while the second having negative cashflows. Observe the NPV & the IRR values:"
   ]
  },
  {
   "cell_type": "code",
   "execution_count": 10,
   "metadata": {},
   "outputs": [
    {
     "name": "stdout",
     "output_type": "stream",
     "text": [
      "Value: $500.00, NPV decides: Yes, IRR decides Yes\n",
      "Value: $470.40, NPV decides: Yes, IRR decides Yes\n",
      "Value: $441.56, NPV decides: Yes, IRR decides Yes\n",
      "Value: $413.47, NPV decides: Yes, IRR decides Yes\n",
      "Value: $386.09, NPV decides: Yes, IRR decides Yes\n",
      "Value: $359.41, NPV decides: Yes, IRR decides Yes\n",
      "Value: $333.39, NPV decides: Yes, IRR decides Yes\n",
      "Value: $308.02, NPV decides: Yes, IRR decides Yes\n",
      "Value: $283.26, NPV decides: Yes, IRR decides Yes\n",
      "Value: $259.11, NPV decides: Yes, IRR decides Yes\n",
      "Value: $235.54, NPV decides: Yes, IRR decides Yes\n",
      "Value: $212.52, NPV decides: Yes, IRR decides Yes\n",
      "Value: $190.05, NPV decides: Yes, IRR decides Yes\n",
      "Value: $168.10, NPV decides: Yes, IRR decides Yes\n",
      "Value: $146.66, NPV decides: Yes, IRR decides Yes\n",
      "Value: $125.71, NPV decides: Yes, IRR decides Yes\n",
      "Value: $105.23, NPV decides: Yes, IRR decides Yes\n",
      "Value: $85.21, NPV decides: Yes, IRR decides Yes\n",
      "Value: $65.64, NPV decides: Yes, IRR decides Yes\n",
      "Value: $46.50, NPV decides: Yes, IRR decides Yes\n",
      "Value: $27.78, NPV decides: Yes, IRR decides Yes\n",
      "Value: $9.46, NPV decides: Yes, IRR decides Yes\n",
      "Value: $-8.47, NPV decides: No, IRR decides No\n",
      "Value: $-26.01, NPV decides: No, IRR decides No\n",
      "Value: $-43.18, NPV decides: No, IRR decides No\n",
      "Value: $-60.00, NPV decides: No, IRR decides No\n",
      "Value: $-76.47, NPV decides: No, IRR decides No\n",
      "Value: $-92.60, NPV decides: No, IRR decides No\n",
      "Value: $-108.40, NPV decides: No, IRR decides No\n",
      "Value: $-123.88, NPV decides: No, IRR decides No\n",
      "Value: $-139.05, NPV decides: No, IRR decides No\n",
      "Value: $-153.92, NPV decides: No, IRR decides No\n",
      "Value: $-168.50, NPV decides: No, IRR decides No\n",
      "Value: $-182.80, NPV decides: No, IRR decides No\n",
      "Value: $-196.81, NPV decides: No, IRR decides No\n",
      "Value: $-210.56, NPV decides: No, IRR decides No\n",
      "Value: $-224.05, NPV decides: No, IRR decides No\n",
      "Value: $-237.28, NPV decides: No, IRR decides No\n",
      "Value: $-250.26, NPV decides: No, IRR decides No\n",
      "Value: $-263.00, NPV decides: No, IRR decides No\n",
      "Value: $-275.51, NPV decides: No, IRR decides No\n",
      "Value: $-287.79, NPV decides: No, IRR decides No\n",
      "Value: $-299.84, NPV decides: No, IRR decides No\n",
      "Value: $-311.68, NPV decides: No, IRR decides No\n",
      "Value: $-323.30, NPV decides: No, IRR decides No\n",
      "Value: $-334.72, NPV decides: No, IRR decides No\n",
      "Value: $-345.94, NPV decides: No, IRR decides No\n",
      "Value: $-356.96, NPV decides: No, IRR decides No\n",
      "Value: $-367.79, NPV decides: No, IRR decides No\n",
      "Value: $-378.43, NPV decides: No, IRR decides No\n"
     ]
    }
   ],
   "source": [
    "flows = [Cashflow(-1500,0.0,.05),Cashflow(1000,1.0,.05),Cashflow(1000,2.0,.05)]\n",
    "cutoff = findIRR(flows)[0]\n",
    "r = 0\n",
    "decision1 = \"Yes\"\n",
    "decision2 = \"Yes\"\n",
    "\n",
    "for _ in range(50):\n",
    "    value = NPV2(r,flows)\n",
    "    if value>0:\n",
    "        decision1 =\"Yes\"\n",
    "    else:\n",
    "        decision1 =\"No\"\n",
    "    if r < cutoff:\n",
    "        decision2 =\"Yes\"\n",
    "    else:\n",
    "        decision2 =\"No\"\n",
    "    r+=.01\n",
    "    print('Value: ${:.2f}, NPV decides: {}, IRR decides {}'.format(value,decision1, decision2))\n"
   ]
  },
  {
   "cell_type": "markdown",
   "metadata": {},
   "source": [
    "We will notice that the NPV rule agrees with the IRR rule every time."
   ]
  },
  {
   "cell_type": "code",
   "execution_count": 11,
   "metadata": {},
   "outputs": [
    {
     "name": "stdout",
     "output_type": "stream",
     "text": [
      "Value: $-500.00, NPV decides: No, IRR decides Yes\n",
      "Value: $-470.40, NPV decides: No, IRR decides Yes\n",
      "Value: $-441.56, NPV decides: No, IRR decides Yes\n",
      "Value: $-413.47, NPV decides: No, IRR decides Yes\n",
      "Value: $-386.09, NPV decides: No, IRR decides Yes\n",
      "Value: $-359.41, NPV decides: No, IRR decides Yes\n",
      "Value: $-333.39, NPV decides: No, IRR decides Yes\n",
      "Value: $-308.02, NPV decides: No, IRR decides Yes\n",
      "Value: $-283.26, NPV decides: No, IRR decides Yes\n",
      "Value: $-259.11, NPV decides: No, IRR decides Yes\n",
      "Value: $-235.54, NPV decides: No, IRR decides Yes\n",
      "Value: $-212.52, NPV decides: No, IRR decides Yes\n",
      "Value: $-190.05, NPV decides: No, IRR decides Yes\n",
      "Value: $-168.10, NPV decides: No, IRR decides Yes\n",
      "Value: $-146.66, NPV decides: No, IRR decides Yes\n",
      "Value: $-125.71, NPV decides: No, IRR decides Yes\n",
      "Value: $-105.23, NPV decides: No, IRR decides Yes\n",
      "Value: $-85.21, NPV decides: No, IRR decides Yes\n",
      "Value: $-65.64, NPV decides: No, IRR decides Yes\n",
      "Value: $-46.50, NPV decides: No, IRR decides Yes\n",
      "Value: $-27.78, NPV decides: No, IRR decides Yes\n",
      "Value: $-9.46, NPV decides: No, IRR decides Yes\n",
      "Value: $8.47, NPV decides: Yes, IRR decides No\n",
      "Value: $26.01, NPV decides: Yes, IRR decides No\n",
      "Value: $43.18, NPV decides: Yes, IRR decides No\n",
      "Value: $60.00, NPV decides: Yes, IRR decides No\n",
      "Value: $76.47, NPV decides: Yes, IRR decides No\n",
      "Value: $92.60, NPV decides: Yes, IRR decides No\n",
      "Value: $108.40, NPV decides: Yes, IRR decides No\n",
      "Value: $123.88, NPV decides: Yes, IRR decides No\n",
      "Value: $139.05, NPV decides: Yes, IRR decides No\n",
      "Value: $153.92, NPV decides: Yes, IRR decides No\n",
      "Value: $168.50, NPV decides: Yes, IRR decides No\n",
      "Value: $182.80, NPV decides: Yes, IRR decides No\n",
      "Value: $196.81, NPV decides: Yes, IRR decides No\n",
      "Value: $210.56, NPV decides: Yes, IRR decides No\n",
      "Value: $224.05, NPV decides: Yes, IRR decides No\n",
      "Value: $237.28, NPV decides: Yes, IRR decides No\n",
      "Value: $250.26, NPV decides: Yes, IRR decides No\n",
      "Value: $263.00, NPV decides: Yes, IRR decides No\n",
      "Value: $275.51, NPV decides: Yes, IRR decides No\n",
      "Value: $287.79, NPV decides: Yes, IRR decides No\n",
      "Value: $299.84, NPV decides: Yes, IRR decides No\n",
      "Value: $311.68, NPV decides: Yes, IRR decides No\n",
      "Value: $323.30, NPV decides: Yes, IRR decides No\n",
      "Value: $334.72, NPV decides: Yes, IRR decides No\n",
      "Value: $345.94, NPV decides: Yes, IRR decides No\n",
      "Value: $356.96, NPV decides: Yes, IRR decides No\n",
      "Value: $367.79, NPV decides: Yes, IRR decides No\n",
      "Value: $378.43, NPV decides: Yes, IRR decides No\n"
     ]
    }
   ],
   "source": [
    "flows = [Cashflow(1500,0.0,.05),Cashflow(-1000,1.0,.05),Cashflow(-1000,2.0,.05)]\n",
    "cutoff = findIRR(flows)[0]\n",
    "r=0\n",
    "decision1 =\"Yes\"\n",
    "decision2 =\"Yes\"\n",
    "for _ in range(50):\n",
    "    value = NPV2(r,flows)\n",
    "    if value>0:\n",
    "        decision1 =\"Yes\"\n",
    "    else:\n",
    "        decision1 =\"No\"\n",
    "    if r < cutoff:\n",
    "        decision2 =\"Yes\"\n",
    "    else:\n",
    "        decision2 =\"No\"\n",
    "    r+=.01\n",
    "    print('Value: ${:.2f}, NPV decides: {}, IRR decides {}'.format(value,decision1, decision2))"
   ]
  },
  {
   "cell_type": "markdown",
   "metadata": {},
   "source": [
    "From our observation, the NPV decision flips for everything but we expected that since we are getting the other side of the deal from before. The IRR rule, however does not change. The cutoff level is still the same, but now with lower r our cashflows are actually worth less.\n",
    "\n",
    "When the cashflows are reversed, the IRR rule can be modified to be the opposite. We wish for the rate of return to be higher than r. In the following code, we will plot NPV just to see exactly how this works."
   ]
  },
  {
   "cell_type": "code",
   "execution_count": 12,
   "metadata": {},
   "outputs": [
    {
     "data": {
      "image/png": "[encoded data removed]",
      "text/plain": [
       "<Figure size 432x288 with 1 Axes>"
      ]
     },
     "metadata": {
      "needs_background": "light"
     },
     "output_type": "display_data"
    }
   ],
   "source": [
    "flows = [Cashflow(-1500,0,.05),Cashflow(1000,1,.05),Cashflow(1000,2,.05)]\n",
    "\n",
    "r = 0\n",
    "rates=[]\n",
    "values=[]\n",
    "for _ in range(50):\n",
    "    rates+=[r]\n",
    "    values+=[NPV2(r,flows)]\n",
    "    r+=.01\n",
    "plt.plot(rates,values)\n",
    "\n",
    "flows = [Cashflow(1500,0,.05),Cashflow(-1000,1,.05),Cashflow(-1000,2,.05)]\n",
    "\n",
    "r = 0\n",
    "rates=[]\n",
    "values=[]\n",
    "for _ in range(50):\n",
    "    rates+=[r]\n",
    "    values+=[NPV2(r,flows)]\n",
    "    r+=.01\n",
    "plt.plot(rates,values)\n",
    "plt.xlabel(\"r\")\n",
    "plt.ylabel(\"NPV\")\n",
    "plt.legend([\"Cash Flows 1\",\"Negative Cash Flows 1\"])\n",
    "\n",
    "plt.show()"
   ]
  },
  {
   "cell_type": "markdown",
   "metadata": {},
   "source": [
    "We’ll notice that the plots are exact reflections of each other. This is because they represent both sides of the deal. \n",
    "\n",
    "When signs of cash flows change more than once there will be more than one IRR. This is due to the fact that the NPV function will be a polynomial and have multiple roots."
   ]
  },
  {
   "cell_type": "code",
   "execution_count": 13,
   "metadata": {},
   "outputs": [
    {
     "data": {
      "image/png": "[encoded data removed]",
      "text/plain": [
       "<Figure size 432x288 with 1 Axes>"
      ]
     },
     "metadata": {
      "needs_background": "light"
     },
     "output_type": "display_data"
    }
   ],
   "source": [
    "flows = [Cashflow(-1200,0,.05),Cashflow(2000,3,.05),Cashflow(2000,6,.05),Cashflow(-3000,10,.05)]\n",
    "\n",
    "r = 0\n",
    "rates=[]\n",
    "values=[]\n",
    "for _ in range(50):\n",
    "    rates+=[r]\n",
    "    values+=[NPV2(r,flows)]\n",
    "    r+=.01\n",
    "plt.axhline(0, color='black')\n",
    "plt.plot(rates,values)\n",
    "plt.xlabel(\"r\")\n",
    "plt.ylabel(\"NPV\")\n",
    "plt.title(\"Cash Flows with Mixed Signs\")\n",
    "plt.show()"
   ]
  },
  {
   "cell_type": "markdown",
   "metadata": {},
   "source": [
    "In selecting projects, NPV is favoured over IRR. NPV shows the total profits that will be made while IRR shows the rate. A project may have a fantastic IRR but in reality, it returns a value of \\$ 100 versus a project that has an NPV with \\$ 10,000 and a lower IRR."
   ]
  },
  {
   "cell_type": "markdown",
   "metadata": {},
   "source": [
    "## Other Profit Measures: Profitability Index\n",
    "\n",
    "It is the ratio of Present Value of Inflows to the Present Value of Outflows. The following code describes an example:"
   ]
  },
  {
   "cell_type": "code",
   "execution_count": 14,
   "metadata": {},
   "outputs": [
    {
     "name": "stdout",
     "output_type": "stream",
     "text": [
      "Profitability Index: 1.24\n"
     ]
    }
   ],
   "source": [
    "def pIndex(flows):\n",
    "    \n",
    "    pos = [x for x in flows if x.val > 0]\n",
    "    neg = [x for x in flows if x.val < 0]\n",
    "    \n",
    "    return NPV(pos)/-NPV(neg)\n",
    "\n",
    "flows = [Cashflow(-1500,0,.05),Cashflow(1000,1,.05),Cashflow(1000,2,.05)]\n",
    "print('Profitability Index: {:.2f}'.format(pIndex(flows)))"
   ]
  },
  {
   "cell_type": "markdown",
   "metadata": {},
   "source": [
    "The rule for taking a project with this measure is that if it is >1 we want to take it. The higher the value, the more appealing that project is because we get more bang for the buck."
   ]
  },
  {
   "cell_type": "code",
   "execution_count": null,
   "metadata": {},
   "outputs": [],
   "source": []
  }
 ],
 "metadata": {
  "kernelspec": {
   "display_name": "Python 3",
   "language": "python",
   "name": "python3"
  },
  "language_info": {
   "codemirror_mode": {
    "name": "ipython",
    "version": 3
   },
   "file_extension": ".py",
   "mimetype": "text/x-python",
   "name": "python",
   "nbconvert_exporter": "python",
   "pygments_lexer": "ipython3",
   "version": "3.5.6"
  }
 },
 "nbformat": 4,
 "nbformat_minor": 2
}
